{
 "cells": [
  {
   "cell_type": "code",
   "execution_count": 5,
   "metadata": {},
   "outputs": [],
   "source": [
    "import pandas as pd\n",
    "import numpy as np"
   ]
  },
  {
   "cell_type": "code",
   "execution_count": 6,
   "metadata": {},
   "outputs": [],
   "source": [
    "import matplotlib.pylab as plt\n",
    "%matplotlib inline\n",
    "from matplotlib.pylab import rcParams"
   ]
  },
  {
   "cell_type": "code",
   "execution_count": 7,
   "metadata": {},
   "outputs": [],
   "source": [
    "rcParams['figure.figsize'] = 15, 6\n",
    "from datetime import datetime\n",
    "from time import *\n",
    "from sklearn import metrics"
   ]
  },
  {
   "cell_type": "code",
   "execution_count": 8,
   "metadata": {},
   "outputs": [],
   "source": [
    "dateparse = lambda dates: pd.datetime.strptime(dates, '%Y-%m-%d')\n",
    "df = pd.read_csv('day.csv', parse_dates=['dteday'], date_parser=dateparse)"
   ]
  },
  {
   "cell_type": "markdown",
   "metadata": {},
   "source": [
    "### Data Statistics"
   ]
  },
  {
   "cell_type": "code",
   "execution_count": 9,
   "metadata": {},
   "outputs": [
    {
     "data": {
      "text/plain": [
       "(731, 16)"
      ]
     },
     "execution_count": 9,
     "metadata": {},
     "output_type": "execute_result"
    }
   ],
   "source": [
    "df.shape"
   ]
  },
  {
   "cell_type": "code",
   "execution_count": 11,
   "metadata": {},
   "outputs": [
    {
     "data": {
      "text/plain": [
       "Index(['instant', 'dteday', 'season', 'yr', 'mnth', 'holiday', 'weekday',\n",
       "       'workingday', 'weathersit', 'temp', 'atemp', 'hum', 'windspeed',\n",
       "       'casual', 'registered', 'cnt'],\n",
       "      dtype='object')"
      ]
     },
     "execution_count": 11,
     "metadata": {},
     "output_type": "execute_result"
    }
   ],
   "source": [
    "df.columns"
   ]
  },
  {
   "cell_type": "code",
   "execution_count": 12,
   "metadata": {},
   "outputs": [
    {
     "data": {
      "text/plain": [
       "instant                int64\n",
       "dteday        datetime64[ns]\n",
       "season                 int64\n",
       "yr                     int64\n",
       "mnth                   int64\n",
       "holiday                int64\n",
       "weekday                int64\n",
       "workingday             int64\n",
       "weathersit             int64\n",
       "temp                 float64\n",
       "atemp                float64\n",
       "hum                  float64\n",
       "windspeed            float64\n",
       "casual                 int64\n",
       "registered             int64\n",
       "cnt                    int64\n",
       "dtype: object"
      ]
     },
     "execution_count": 12,
     "metadata": {},
     "output_type": "execute_result"
    }
   ],
   "source": [
    "df.dtypes"
   ]
  },
  {
   "cell_type": "code",
   "execution_count": 13,
   "metadata": {},
   "outputs": [
    {
     "data": {
      "text/plain": [
       "<bound method NDFrame.describe of      instant     dteday  season  yr  mnth  holiday  weekday  workingday  \\\n",
       "0          1 2011-01-01       1   0     1        0        6           0   \n",
       "1          2 2011-01-02       1   0     1        0        0           0   \n",
       "2          3 2011-01-03       1   0     1        0        1           1   \n",
       "3          4 2011-01-04       1   0     1        0        2           1   \n",
       "4          5 2011-01-05       1   0     1        0        3           1   \n",
       "5          6 2011-01-06       1   0     1        0        4           1   \n",
       "6          7 2011-01-07       1   0     1        0        5           1   \n",
       "7          8 2011-01-08       1   0     1        0        6           0   \n",
       "8          9 2011-01-09       1   0     1        0        0           0   \n",
       "9         10 2011-01-10       1   0     1        0        1           1   \n",
       "10        11 2011-01-11       1   0     1        0        2           1   \n",
       "11        12 2011-01-12       1   0     1        0        3           1   \n",
       "12        13 2011-01-13       1   0     1        0        4           1   \n",
       "13        14 2011-01-14       1   0     1        0        5           1   \n",
       "14        15 2011-01-15       1   0     1        0        6           0   \n",
       "15        16 2011-01-16       1   0     1        0        0           0   \n",
       "16        17 2011-01-17       1   0     1        1        1           0   \n",
       "17        18 2011-01-18       1   0     1        0        2           1   \n",
       "18        19 2011-01-19       1   0     1        0        3           1   \n",
       "19        20 2011-01-20       1   0     1        0        4           1   \n",
       "20        21 2011-01-21       1   0     1        0        5           1   \n",
       "21        22 2011-01-22       1   0     1        0        6           0   \n",
       "22        23 2011-01-23       1   0     1        0        0           0   \n",
       "23        24 2011-01-24       1   0     1        0        1           1   \n",
       "24        25 2011-01-25       1   0     1        0        2           1   \n",
       "25        26 2011-01-26       1   0     1        0        3           1   \n",
       "26        27 2011-01-27       1   0     1        0        4           1   \n",
       "27        28 2011-01-28       1   0     1        0        5           1   \n",
       "28        29 2011-01-29       1   0     1        0        6           0   \n",
       "29        30 2011-01-30       1   0     1        0        0           0   \n",
       "..       ...        ...     ...  ..   ...      ...      ...         ...   \n",
       "701      702 2012-12-02       4   1    12        0        0           0   \n",
       "702      703 2012-12-03       4   1    12        0        1           1   \n",
       "703      704 2012-12-04       4   1    12        0        2           1   \n",
       "704      705 2012-12-05       4   1    12        0        3           1   \n",
       "705      706 2012-12-06       4   1    12        0        4           1   \n",
       "706      707 2012-12-07       4   1    12        0        5           1   \n",
       "707      708 2012-12-08       4   1    12        0        6           0   \n",
       "708      709 2012-12-09       4   1    12        0        0           0   \n",
       "709      710 2012-12-10       4   1    12        0        1           1   \n",
       "710      711 2012-12-11       4   1    12        0        2           1   \n",
       "711      712 2012-12-12       4   1    12        0        3           1   \n",
       "712      713 2012-12-13       4   1    12        0        4           1   \n",
       "713      714 2012-12-14       4   1    12        0        5           1   \n",
       "714      715 2012-12-15       4   1    12        0        6           0   \n",
       "715      716 2012-12-16       4   1    12        0        0           0   \n",
       "716      717 2012-12-17       4   1    12        0        1           1   \n",
       "717      718 2012-12-18       4   1    12        0        2           1   \n",
       "718      719 2012-12-19       4   1    12        0        3           1   \n",
       "719      720 2012-12-20       4   1    12        0        4           1   \n",
       "720      721 2012-12-21       1   1    12        0        5           1   \n",
       "721      722 2012-12-22       1   1    12        0        6           0   \n",
       "722      723 2012-12-23       1   1    12        0        0           0   \n",
       "723      724 2012-12-24       1   1    12        0        1           1   \n",
       "724      725 2012-12-25       1   1    12        1        2           0   \n",
       "725      726 2012-12-26       1   1    12        0        3           1   \n",
       "726      727 2012-12-27       1   1    12        0        4           1   \n",
       "727      728 2012-12-28       1   1    12        0        5           1   \n",
       "728      729 2012-12-29       1   1    12        0        6           0   \n",
       "729      730 2012-12-30       1   1    12        0        0           0   \n",
       "730      731 2012-12-31       1   1    12        0        1           1   \n",
       "\n",
       "     weathersit      temp     atemp       hum  windspeed  casual  registered  \\\n",
       "0             2  0.344167  0.363625  0.805833   0.160446     331         654   \n",
       "1             2  0.363478  0.353739  0.696087   0.248539     131         670   \n",
       "2             1  0.196364  0.189405  0.437273   0.248309     120        1229   \n",
       "3             1  0.200000  0.212122  0.590435   0.160296     108        1454   \n",
       "4             1  0.226957  0.229270  0.436957   0.186900      82        1518   \n",
       "5             1  0.204348  0.233209  0.518261   0.089565      88        1518   \n",
       "6             2  0.196522  0.208839  0.498696   0.168726     148        1362   \n",
       "7             2  0.165000  0.162254  0.535833   0.266804      68         891   \n",
       "8             1  0.138333  0.116175  0.434167   0.361950      54         768   \n",
       "9             1  0.150833  0.150888  0.482917   0.223267      41        1280   \n",
       "10            2  0.169091  0.191464  0.686364   0.122132      43        1220   \n",
       "11            1  0.172727  0.160473  0.599545   0.304627      25        1137   \n",
       "12            1  0.165000  0.150883  0.470417   0.301000      38        1368   \n",
       "13            1  0.160870  0.188413  0.537826   0.126548      54        1367   \n",
       "14            2  0.233333  0.248112  0.498750   0.157963     222        1026   \n",
       "15            1  0.231667  0.234217  0.483750   0.188433     251         953   \n",
       "16            2  0.175833  0.176771  0.537500   0.194017     117         883   \n",
       "17            2  0.216667  0.232333  0.861667   0.146775       9         674   \n",
       "18            2  0.292174  0.298422  0.741739   0.208317      78        1572   \n",
       "19            2  0.261667  0.255050  0.538333   0.195904      83        1844   \n",
       "20            1  0.177500  0.157833  0.457083   0.353242      75        1468   \n",
       "21            1  0.059130  0.079070  0.400000   0.171970      93         888   \n",
       "22            1  0.096522  0.098839  0.436522   0.246600     150         836   \n",
       "23            1  0.097391  0.117930  0.491739   0.158330      86        1330   \n",
       "24            2  0.223478  0.234526  0.616957   0.129796     186        1799   \n",
       "25            3  0.217500  0.203600  0.862500   0.293850      34         472   \n",
       "26            1  0.195000  0.219700  0.687500   0.113837      15         416   \n",
       "27            2  0.203478  0.223317  0.793043   0.123300      38        1129   \n",
       "28            1  0.196522  0.212126  0.651739   0.145365     123         975   \n",
       "29            1  0.216522  0.250322  0.722174   0.073983     140         956   \n",
       "..          ...       ...       ...       ...        ...     ...         ...   \n",
       "701           2  0.347500  0.359208  0.823333   0.124379     892        3757   \n",
       "702           1  0.452500  0.455796  0.767500   0.082721     555        5679   \n",
       "703           1  0.475833  0.469054  0.733750   0.174129     551        6055   \n",
       "704           1  0.438333  0.428012  0.485000   0.324021     331        5398   \n",
       "705           1  0.255833  0.258204  0.508750   0.174754     340        5035   \n",
       "706           2  0.320833  0.321958  0.764167   0.130600     349        4659   \n",
       "707           2  0.381667  0.389508  0.911250   0.101379    1153        4429   \n",
       "708           2  0.384167  0.390146  0.905417   0.157975     441        2787   \n",
       "709           2  0.435833  0.435575  0.925000   0.190308     329        4841   \n",
       "710           2  0.353333  0.338363  0.596667   0.296037     282        5219   \n",
       "711           2  0.297500  0.297338  0.538333   0.162937     310        5009   \n",
       "712           1  0.295833  0.294188  0.485833   0.174129     425        5107   \n",
       "713           1  0.281667  0.294192  0.642917   0.131229     429        5182   \n",
       "714           1  0.324167  0.338383  0.650417   0.106350     767        4280   \n",
       "715           2  0.362500  0.369938  0.838750   0.100742     538        3248   \n",
       "716           2  0.393333  0.401500  0.907083   0.098258     212        4373   \n",
       "717           1  0.410833  0.409708  0.666250   0.221404     433        5124   \n",
       "718           1  0.332500  0.342162  0.625417   0.184092     333        4934   \n",
       "719           2  0.330000  0.335217  0.667917   0.132463     314        3814   \n",
       "720           2  0.326667  0.301767  0.556667   0.374383     221        3402   \n",
       "721           1  0.265833  0.236113  0.441250   0.407346     205        1544   \n",
       "722           1  0.245833  0.259471  0.515417   0.133083     408        1379   \n",
       "723           2  0.231304  0.258900  0.791304   0.077230     174         746   \n",
       "724           2  0.291304  0.294465  0.734783   0.168726     440         573   \n",
       "725           3  0.243333  0.220333  0.823333   0.316546       9         432   \n",
       "726           2  0.254167  0.226642  0.652917   0.350133     247        1867   \n",
       "727           2  0.253333  0.255046  0.590000   0.155471     644        2451   \n",
       "728           2  0.253333  0.242400  0.752917   0.124383     159        1182   \n",
       "729           1  0.255833  0.231700  0.483333   0.350754     364        1432   \n",
       "730           2  0.215833  0.223487  0.577500   0.154846     439        2290   \n",
       "\n",
       "      cnt  \n",
       "0     985  \n",
       "1     801  \n",
       "2    1349  \n",
       "3    1562  \n",
       "4    1600  \n",
       "5    1606  \n",
       "6    1510  \n",
       "7     959  \n",
       "8     822  \n",
       "9    1321  \n",
       "10   1263  \n",
       "11   1162  \n",
       "12   1406  \n",
       "13   1421  \n",
       "14   1248  \n",
       "15   1204  \n",
       "16   1000  \n",
       "17    683  \n",
       "18   1650  \n",
       "19   1927  \n",
       "20   1543  \n",
       "21    981  \n",
       "22    986  \n",
       "23   1416  \n",
       "24   1985  \n",
       "25    506  \n",
       "26    431  \n",
       "27   1167  \n",
       "28   1098  \n",
       "29   1096  \n",
       "..    ...  \n",
       "701  4649  \n",
       "702  6234  \n",
       "703  6606  \n",
       "704  5729  \n",
       "705  5375  \n",
       "706  5008  \n",
       "707  5582  \n",
       "708  3228  \n",
       "709  5170  \n",
       "710  5501  \n",
       "711  5319  \n",
       "712  5532  \n",
       "713  5611  \n",
       "714  5047  \n",
       "715  3786  \n",
       "716  4585  \n",
       "717  5557  \n",
       "718  5267  \n",
       "719  4128  \n",
       "720  3623  \n",
       "721  1749  \n",
       "722  1787  \n",
       "723   920  \n",
       "724  1013  \n",
       "725   441  \n",
       "726  2114  \n",
       "727  3095  \n",
       "728  1341  \n",
       "729  1796  \n",
       "730  2729  \n",
       "\n",
       "[731 rows x 16 columns]>"
      ]
     },
     "execution_count": 13,
     "metadata": {},
     "output_type": "execute_result"
    }
   ],
   "source": [
    "df.describe"
   ]
  },
  {
   "cell_type": "code",
   "execution_count": null,
   "metadata": {},
   "outputs": [],
   "source": []
  },
  {
   "cell_type": "code",
   "execution_count": 55,
   "metadata": {
    "scrolled": true
   },
   "outputs": [
    {
     "data": {
      "image/png": "[encoded data removed]",
      "text/plain": [
       "<Figure size 1080x432 with 1 Axes>"
      ]
     },
     "metadata": {},
     "output_type": "display_data"
    }
   ],
   "source": [
    "plt.plot(df['temp'], df['cnt'], 'o', color='black');"
   ]
  },
  {
   "cell_type": "markdown",
   "metadata": {},
   "source": [
    "Correlation between features temp and cnt"
   ]
  },
  {
   "cell_type": "code",
   "execution_count": 56,
   "metadata": {},
   "outputs": [
    {
     "data": {
      "text/plain": [
       "0.627494009033492"
      ]
     },
     "execution_count": 56,
     "metadata": {},
     "output_type": "execute_result"
    }
   ],
   "source": [
    "df['temp'].corr(df['cnt'])"
   ]
  },
  {
   "cell_type": "code",
   "execution_count": null,
   "metadata": {},
   "outputs": [],
   "source": []
  },
  {
   "cell_type": "code",
   "execution_count": 57,
   "metadata": {},
   "outputs": [
    {
     "data": {
      "text/plain": [
       "[<matplotlib.lines.Line2D at 0x14028ab0>]"
      ]
     },
     "execution_count": 57,
     "metadata": {},
     "output_type": "execute_result"
    },
    {
     "data": {
      "image/png": "[encoded data removed]",
      "text/plain": [
       "<Figure size 1080x432 with 1 Axes>"
      ]
     },
     "metadata": {},
     "output_type": "display_data"
    }
   ],
   "source": [
    "plt.plot(df['dteday'], df['cnt'], 'o', color='black')"
   ]
  },
  {
   "cell_type": "markdown",
   "metadata": {},
   "source": [
    "Correlation between features dteday and cnt"
   ]
  },
  {
   "cell_type": "markdown",
   "metadata": {},
   "source": [
    "### Creating a category object (pd.categorical)"
   ]
  },
  {
   "cell_type": "code",
   "execution_count": 58,
   "metadata": {},
   "outputs": [],
   "source": [
    "df['season_cat'] = pd.Categorical(df['season'])"
   ]
  },
  {
   "cell_type": "code",
   "execution_count": 59,
   "metadata": {},
   "outputs": [
    {
     "data": {
      "text/plain": [
       "<matplotlib.axes._subplots.AxesSubplot at 0x15220e10>"
      ]
     },
     "execution_count": 59,
     "metadata": {},
     "output_type": "execute_result"
    },
    {
     "data": {
      "image/png": "[encoded data removed]",
      "text/plain": [
       "<Figure size 1080x432 with 1 Axes>"
      ]
     },
     "metadata": {},
     "output_type": "display_data"
    }
   ],
   "source": [
    "df[['season_cat', 'cnt']].boxplot(by = 'season_cat')"
   ]
  },
  {
   "cell_type": "markdown",
   "metadata": {},
   "source": [
    "### Plotting few features against each other and checking their correlation"
   ]
  },
  {
   "cell_type": "code",
   "execution_count": 60,
   "metadata": {},
   "outputs": [
    {
     "data": {
      "text/plain": [
       "<matplotlib.axes._subplots.AxesSubplot at 0x150a1ed0>"
      ]
     },
     "execution_count": 60,
     "metadata": {},
     "output_type": "execute_result"
    },
    {
     "data": {
      "image/png": "[encoded data removed]",
      "text/plain": [
       "<Figure size 1080x432 with 1 Axes>"
      ]
     },
     "metadata": {},
     "output_type": "display_data"
    }
   ],
   "source": [
    "df['weathersit_cat'] = pd.Categorical(df['weathersit'])\n",
    "df[['weathersit_cat', 'cnt']].boxplot(by = 'weathersit_cat')"
   ]
  },
  {
   "cell_type": "code",
   "execution_count": 61,
   "metadata": {},
   "outputs": [
    {
     "data": {
      "text/plain": [
       "[<matplotlib.lines.Line2D at 0x14badd50>]"
      ]
     },
     "execution_count": 61,
     "metadata": {},
     "output_type": "execute_result"
    },
    {
     "data": {
      "image/png": "[encoded data removed]",
      "text/plain": [
       "<Figure size 1080x432 with 1 Axes>"
      ]
     },
     "metadata": {},
     "output_type": "display_data"
    }
   ],
   "source": [
    "plt.plot(df['hum'], df['cnt'], 'o')"
   ]
  },
  {
   "cell_type": "code",
   "execution_count": 62,
   "metadata": {},
   "outputs": [
    {
     "data": {
      "text/plain": [
       "-0.10065856213715534"
      ]
     },
     "execution_count": 62,
     "metadata": {},
     "output_type": "execute_result"
    }
   ],
   "source": [
    "df['hum'].corr(df['cnt'])"
   ]
  },
  {
   "cell_type": "code",
   "execution_count": null,
   "metadata": {},
   "outputs": [],
   "source": []
  },
  {
   "cell_type": "code",
   "execution_count": 63,
   "metadata": {},
   "outputs": [
    {
     "data": {
      "text/plain": [
       "[<matplotlib.lines.Line2D at 0x14bf1430>]"
      ]
     },
     "execution_count": 63,
     "metadata": {},
     "output_type": "execute_result"
    },
    {
     "data": {
      "image/png": "[encoded data removed]",
      "text/plain": [
       "<Figure size 1080x432 with 1 Axes>"
      ]
     },
     "metadata": {},
     "output_type": "display_data"
    }
   ],
   "source": [
    "plt.plot(df['windspeed'], df['cnt'], 'o')"
   ]
  },
  {
   "cell_type": "code",
   "execution_count": 64,
   "metadata": {},
   "outputs": [
    {
     "data": {
      "text/plain": [
       "-0.23454499742167012"
      ]
     },
     "execution_count": 64,
     "metadata": {},
     "output_type": "execute_result"
    }
   ],
   "source": [
    "df['windspeed'].corr(df['cnt'])"
   ]
  },
  {
   "cell_type": "code",
   "execution_count": null,
   "metadata": {},
   "outputs": [],
   "source": []
  },
  {
   "cell_type": "code",
   "execution_count": 65,
   "metadata": {},
   "outputs": [],
   "source": [
    "df['dteday'] = df['dteday'].map(datetime.toordinal)"
   ]
  },
  {
   "cell_type": "code",
   "execution_count": 66,
   "metadata": {},
   "outputs": [],
   "source": [
    "dates = df['dteday']\n",
    "dates = (dates-dates.min())/(dates.max()-dates.min())\n",
    "df['dteday'] = dates"
   ]
  },
  {
   "cell_type": "code",
   "execution_count": 67,
   "metadata": {},
   "outputs": [],
   "source": [
    "dates = df['yr']\n",
    "dates = (dates-dates.min())/(dates.max()-dates.min())\n",
    "df['yr'] = dates"
   ]
  },
  {
   "cell_type": "code",
   "execution_count": null,
   "metadata": {},
   "outputs": [],
   "source": []
  },
  {
   "cell_type": "code",
   "execution_count": 68,
   "metadata": {},
   "outputs": [
    {
     "data": {
      "text/plain": [
       "0.6288302722083066"
      ]
     },
     "execution_count": 68,
     "metadata": {},
     "output_type": "execute_result"
    }
   ],
   "source": [
    "df['dteday'].corr(df['cnt'])"
   ]
  },
  {
   "cell_type": "code",
   "execution_count": 69,
   "metadata": {},
   "outputs": [
    {
     "data": {
      "text/plain": [
       "0.33431485639909475"
      ]
     },
     "execution_count": 69,
     "metadata": {},
     "output_type": "execute_result"
    }
   ],
   "source": [
    "df['season'].corr(df['temp'])"
   ]
  },
  {
   "cell_type": "code",
   "execution_count": null,
   "metadata": {},
   "outputs": [],
   "source": []
  },
  {
   "cell_type": "code",
   "execution_count": 70,
   "metadata": {},
   "outputs": [],
   "source": [
    "def cost_function(X, Y, Z):\n",
    "    length = len(Z)\n",
    "    result = np.sum((X.dot(Z) - Y) ** 2)\n",
    "    result = result / (2 * length)\n",
    "    return result"
   ]
  },
  {
   "cell_type": "code",
   "execution_count": null,
   "metadata": {},
   "outputs": [],
   "source": []
  },
  {
   "cell_type": "code",
   "execution_count": 71,
   "metadata": {},
   "outputs": [],
   "source": [
    "def RMSE(X, Y, Z):\n",
    "    length = len(Y)\n",
    "    result = np.sum((X.dot(Z).astype(int) - Y) ** 2)    \n",
    "    result = result**0.5\n",
    "    result = result / (2 * length)\n",
    "    return result"
   ]
  },
  {
   "cell_type": "code",
   "execution_count": null,
   "metadata": {},
   "outputs": [],
   "source": []
  },
  {
   "cell_type": "code",
   "execution_count": 72,
   "metadata": {},
   "outputs": [],
   "source": [
    "def R_squared(X, Y, Z):\n",
    "  mean = np.mean(Y)\n",
    "  ssdiff = np.sum((X.dot(Z) - mean)**2)\n",
    "  ssmeandiff = np.sum((Y - mean)**2)\n",
    "  return ssdiff/ssmeandiff"
   ]
  },
  {
   "cell_type": "code",
   "execution_count": null,
   "metadata": {},
   "outputs": [],
   "source": []
  },
  {
   "cell_type": "code",
   "execution_count": 73,
   "metadata": {},
   "outputs": [],
   "source": [
    "def linear_regression(df, features, target):\n",
    "  \n",
    "  train_df = df[:int(len(df)*0.7)]\n",
    "  test_df = df[int(len(df)*0.7):]\n",
    "  m = len(train_df)\n",
    "  x0 = np.ones(m)\n",
    "  X = np.array([x0] + [train_df[x] for x in features]).T\n",
    "  B = np.array([0] + [0 for x in features])\n",
    "  Y = np.array(train_df[target])\n",
    "  alpha = 0.0001\n",
    "  inital_cost = cost_function(X, Y, B)\n",
    "  print('Initial cost:', inital_cost)\n",
    "  newB, cost_history = gradient_descent(X, Y, B, alpha, 100000)\n",
    "#   plot_ROC(Y, X.dot(newB))\n",
    "  print(newB)\n",
    "  print('RMSE on train:', RMSE(X, Y, newB))\n",
    "  print('R squared value on train:', R_squared(X, Y, newB))\n",
    "#   print(test_df)\n",
    "  m = len(test_df)\n",
    "  x0 = np.ones(m)\n",
    "  X_ = np.array([x0] + [test_df[x] for x in features]).T\n",
    "  Y_ = np.array(test_df[target])\n",
    "  print('RMSE on test:', RMSE(X_, Y_, newB))\n",
    "  print('R squared value on train:', R_squared(X_, Y_, newB))\n",
    "  return newB"
   ]
  },
  {
   "cell_type": "code",
   "execution_count": null,
   "metadata": {},
   "outputs": [],
   "source": []
  },
  {
   "cell_type": "code",
   "execution_count": 74,
   "metadata": {},
   "outputs": [],
   "source": [
    "def gradient_descent(X, Y, M, alpha, iterations):\n",
    "    cost_history = [0] * iterations\n",
    "    length = len(Y)\n",
    "    \n",
    "    for iteration in range(iterations):\n",
    "        # Hypothesis Values\n",
    "        h = X.dot(M)\n",
    "        # Difference b/w Hypothesis and Actual Y\n",
    "        loss = h - Y\n",
    "        # Gradient Calculation\n",
    "        gradient = X.T.dot(loss) / length\n",
    "        M = M - alpha * gradient\n",
    "        # New Cost Value\n",
    "        cost = cost_function(X, Y, M)\n",
    "        cost_history[iteration] = cost\n",
    "        \n",
    "    return M, cost_history"
   ]
  },
  {
   "cell_type": "code",
   "execution_count": 75,
   "metadata": {},
   "outputs": [],
   "source": [
    "features = ['dteday', 'holiday', 'weekday',\n",
    "       'workingday', 'hum', 'windspeed']"
   ]
  },
  {
   "cell_type": "markdown",
   "metadata": {},
   "source": [
    "### Linear Regression for selected features against feature 'cnt'"
   ]
  },
  {
   "cell_type": "code",
   "execution_count": 76,
   "metadata": {},
   "outputs": [
    {
     "name": "stdout",
     "output_type": "stream",
     "text": [
      "Initial cost: 617122806.7142857\n",
      "[2024.12857882 1982.7386256    39.8303933    59.12865323  425.55837631\n",
      "  872.20060881  179.87048525]\n",
      "RMSE on train: 31.493825023731297\n",
      "R squared value on train: 0.09284089528765853\n",
      "RMSE on test: 75.46864291909314\n",
      "R squared value on train: 0.751451533973539\n",
      "min count 22\n",
      "max count 8714\n"
     ]
    }
   ],
   "source": [
    "linear_regression(df, features, 'cnt')\n",
    "print('min count',min(df['cnt']))\n",
    "print('max count',max(df['cnt']))"
   ]
  },
  {
   "cell_type": "markdown",
   "metadata": {},
   "source": [
    "### Linear Regression for selected features against feature 'cnt'"
   ]
  },
  {
   "cell_type": "code",
   "execution_count": 77,
   "metadata": {},
   "outputs": [],
   "source": [
    "features = ['season', 'yr', 'mnth', 'temp', 'weathersit']"
   ]
  },
  {
   "cell_type": "code",
   "execution_count": 78,
   "metadata": {},
   "outputs": [
    {
     "name": "stdout",
     "output_type": "stream",
     "text": [
      "Initial cost: 719976607.8333334\n",
      "[1445.91356325  759.03302101 2061.06937797   -7.92474148 1655.87187535\n",
      " -478.89947287]\n",
      "RMSE on train: 22.029837680382563\n",
      "R squared value on train: 0.4523166935997698\n",
      "RMSE on test: 47.11257892511518\n",
      "R squared value on train: 0.17404490604303202\n",
      "min count 22\n",
      "max count 8714\n"
     ]
    }
   ],
   "source": [
    "linear_regression(df, features, 'cnt')\n",
    "print('min count',min(df['cnt']))\n",
    "print('max count',max(df['cnt']))"
   ]
  },
  {
   "cell_type": "code",
   "execution_count": null,
   "metadata": {},
   "outputs": [],
   "source": []
  }
 ],
 "metadata": {
  "kernelspec": {
   "display_name": "Python 3",
   "language": "python",
   "name": "python3"
  },
  "language_info": {
   "codemirror_mode": {
    "name": "ipython",
    "version": 3
   },
   "file_extension": ".py",
   "mimetype": "text/x-python",
   "name": "python",
   "nbconvert_exporter": "python",
   "pygments_lexer": "ipython3",
   "version": "3.6.2"
  }
 },
 "nbformat": 4,
 "nbformat_minor": 2
}
